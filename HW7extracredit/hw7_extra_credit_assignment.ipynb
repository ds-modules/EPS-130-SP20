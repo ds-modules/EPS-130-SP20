{
 "cells": [
  {
   "cell_type": "markdown",
   "metadata": {},
   "source": [
    "# HW7 Extra Credit\n",
    "\n",
    "### This extra credit assignment, worth 50 pts toward the homework score, analyzes the displacement amplitude spectrum for a small $M_L$=4.1 earthquake that occurred in Berkeley on December 4, 1998. \n",
    "\n",
    "### Write python code to apply a ~$\\frac{1}{f_2}$ source model with attenuation to the observed displacment amplitude spectrum to determine:\n",
    "\n",
    "1. The scalar seismic moment\n",
    "\n",
    "2. The corner frequency of the earthquake\n",
    "\n",
    "3. The rupture area and slip\n",
    "\n",
    "4. The stress drop.\n",
    "\n",
    "5. Discuss your results in terms of what is typically found for earthquakes (use Lay and Wallace text as a reference).\n",
    "\n",
    "### The SH Greens function solution for an anelastic halfspace is:\n",
    "### u(f)=$\\frac{2 * |R_{SH}| * M_0}{4 * \\pi * \\rho * \\beta^3 *R} \\cdot \\frac{1}{[1 + (\\frac{f}{f_c})^2]^{(\\frac{p}{2})}} \\cdot e^{(\\frac{-f*\\pi*R}{Q*\\beta})}$\n",
    "#### Where Rsh is the SH radiation pattern (eqn 8.65 Lay and Wallace),  $M_0$ is the scalar moment, $\\rho, \\beta$, Q (range 10-100), R, f and $f_c$ (range .1 to 10 Hz) are the density, shear wave velocity, attenuation quality factor, total distance, frequency and corner frequency. The parameter p allows for adjusting the high frequency fall off rate of the spectrum. For a Brune source p=2 (a minimum value of p to conserve energy is 1.5, and typically the maximum is 3).\n",
    "\n",
    "#### u(f) is the given amplitude spectrum plotted below.\n",
    "\n",
    "#### Be sure to use CGS (cm, grams, seconds) units for all parameters. The unit for scalar moment will therefore be dyne cm.\n",
    "\n",
    "#### Develop a nested for loop to search for optimal Mo, fc and Q parameters\n"
   ]
  },
  {
   "cell_type": "code",
   "execution_count": 1,
   "metadata": {},
   "outputs": [],
   "source": [
    "#Initial Setup and Subroutine Definitions - Do Not Edit\n",
    "import pandas as pd\n",
    "import numpy as np\n",
    "import matplotlib\n",
    "import matplotlib.pyplot as plt"
   ]
  },
  {
   "cell_type": "code",
   "execution_count": 15,
   "metadata": {},
   "outputs": [
    {
     "data": {
      "image/png": "[encoded data removed]",
      "text/plain": [
       "<Figure size 432x288 with 1 Axes>"
      ]
     },
     "metadata": {},
     "output_type": "display_data"
    }
   ],
   "source": [
    "#Model Parameters\n",
    "distance=6.8e5      #units cm\n",
    "depth=5.1e5         #units cm\n",
    "azimuth=137.8*np.pi/180  #radians\n",
    "strike=139*np.pi/180   #radians\n",
    "rake=179*np.pi/180     #radians\n",
    "dip=69*np.pi/180       #radians\n",
    "beta=3.2e5             #cm/s\n",
    "density=2.6            #grams/cc\n",
    "\n",
    "#Compute Total distance (R), Azimuth(phi) and takeoff angle(I)\n",
    "phi=strike-azimuth\n",
    "R=np.sqrt(distance**2 + depth**2);\n",
    "I=np.pi-np.arctan(distance/depth);      #pi is for upgoing angle\n",
    "\n",
    "\n",
    "# Read Data File and Setup frequency and amplitude spectral amplitude arrays\n",
    "data=pd.read_csv('brkspec.txt', sep=' ', delimiter=None, header=None,\n",
    "                names = ['Hz','AmpSpec'])\n",
    "freq=np.array(data[\"Hz\"])\n",
    "ampspec=np.array(data[\"AmpSpec\"])\n",
    "\n",
    "plt.loglog(freq,ampspec)\n",
    "plt.title('Berkeley Event Amplitude Spectrum')\n",
    "plt.xlabel('frequency (Hz)')\n",
    "plt.ylabel('amplitude spectrum cm/Hz')\n",
    "plt.savefig('brkspec.jpg')\n",
    "plt.show()"
   ]
  },
  {
   "cell_type": "code",
   "execution_count": 1,
   "metadata": {},
   "outputs": [
    {
     "ename": "NameError",
     "evalue": "name 'np' is not defined",
     "output_type": "error",
     "traceback": [
      "\u001b[0;31m---------------------------------------------------------------------------\u001b[0m",
      "\u001b[0;31mNameError\u001b[0m                                 Traceback (most recent call last)",
      "\u001b[0;32m<ipython-input-1-75c58a61bf1d>\u001b[0m in \u001b[0;36m<module>\u001b[0;34m()\u001b[0m\n\u001b[1;32m      7\u001b[0m \u001b[0;34m\u001b[0m\u001b[0m\n\u001b[1;32m      8\u001b[0m \u001b[0;31m#Define grid search range\u001b[0m\u001b[0;34m\u001b[0m\u001b[0;34m\u001b[0m\u001b[0m\n\u001b[0;32m----> 9\u001b[0;31m \u001b[0mMo\u001b[0m\u001b[0;34m=\u001b[0m\u001b[0mnp\u001b[0m\u001b[0;34m.\u001b[0m\u001b[0marange\u001b[0m\u001b[0;34m(\u001b[0m\u001b[0;36m100.\u001b[0m\u001b[0;34m,\u001b[0m\u001b[0;36m400.\u001b[0m\u001b[0;34m,\u001b[0m\u001b[0;36m10.\u001b[0m\u001b[0;34m)\u001b[0m\u001b[0;34m*\u001b[0m\u001b[0;36m1e20\u001b[0m  \u001b[0;31m#dyne cm\u001b[0m\u001b[0;34m\u001b[0m\u001b[0m\n\u001b[0m\u001b[1;32m     10\u001b[0m \u001b[0mfc\u001b[0m\u001b[0;34m=\u001b[0m\u001b[0mnp\u001b[0m\u001b[0;34m.\u001b[0m\u001b[0marange\u001b[0m\u001b[0;34m(\u001b[0m\u001b[0;36m0.1\u001b[0m\u001b[0;34m,\u001b[0m\u001b[0;36m10.\u001b[0m\u001b[0;34m,\u001b[0m\u001b[0;36m0.05\u001b[0m\u001b[0;34m)\u001b[0m\u001b[0;34m\u001b[0m\u001b[0m\n\u001b[1;32m     11\u001b[0m \u001b[0mq\u001b[0m\u001b[0;34m=\u001b[0m\u001b[0mnp\u001b[0m\u001b[0;34m.\u001b[0m\u001b[0marange\u001b[0m\u001b[0;34m(\u001b[0m\u001b[0;36m10.\u001b[0m\u001b[0;34m,\u001b[0m\u001b[0;36m100.\u001b[0m\u001b[0;34m,\u001b[0m\u001b[0;36m5.\u001b[0m\u001b[0;34m)\u001b[0m\u001b[0;34m\u001b[0m\u001b[0m\n",
      "\u001b[0;31mNameError\u001b[0m: name 'np' is not defined"
     ]
    }
   ],
   "source": [
    "##### Write code to calculate the SH radiation pattern coefficient\n",
    "\n",
    "\n",
    "#Write code to fit the spectral model to the observed displacement spectrum.\n",
    "#This can be accomplished with a nested for loop over the scalar moment and corner frequency\n",
    "#parameters\n",
    "\n",
    "#Define grid search range\n",
    "Mo=np.arange(100.,400.,10.)*1e20  #dyne cm\n",
    "fc=np.arange(0.1,10.,0.05)\n",
    "q=np.arange(10.,100.,5.)\n",
    "p=np.arange(2.0,3.5,10.)\n",
    "#p=np.array([2.0, 2.0])\n",
    "\n",
    "#Loop over model parameters and test for fit with data to determine best fit parameters\n",
    "\n",
    "\n",
    "#Plot the fit to the data, and discuss the uncertainties in the solution\n"
   ]
  },
  {
   "cell_type": "markdown",
   "metadata": {},
   "source": [
    "#### This is an example of the fit that can be obtained\n",
    "\n",
    "<img src='brkspecfit.jpg'>"
   ]
  },
  {
   "cell_type": "markdown",
   "metadata": {},
   "source": [
    "### Questions\n",
    "1. What are the scalar seismic moment, Mw, corner frequency and Q that best fit the spectra assuming p=2.0?\n",
    "\n",
    "2. How does the fit and the scalar moment, corner frequency and Q change if p=3.0?\n",
    "\n",
    "3. The fault radius can be determed from the corner frequency where radius=0.37*beta/fc. Use the fault radius and moment to estimate the average slip and the stress drop of the earthquake\n",
    "\n",
    "4. Discuss the estimated stress drop in terms of the expected range of values for earthquakes.\n",
    "\n",
    "5. How well determined do you think your corner frequency and moment estimates are. How do uncertainties in those quantitites translate to uncertainty in stress drop?"
   ]
  },
  {
   "cell_type": "code",
   "execution_count": 1,
   "metadata": {},
   "outputs": [],
   "source": [
    "#Use the corner frequency to estimate the fault rupture area, the average slip on the fault\n",
    "#and the stress drop\n"
   ]
  },
  {
   "cell_type": "code",
   "execution_count": null,
   "metadata": {},
   "outputs": [],
   "source": []
  }
 ],
 "metadata": {
  "kernelspec": {
   "display_name": "Python 3",
   "language": "python",
   "name": "python3"
  },
  "language_info": {
   "codemirror_mode": {
    "name": "ipython",
    "version": 3
   },
   "file_extension": ".py",
   "mimetype": "text/x-python",
   "name": "python",
   "nbconvert_exporter": "python",
   "pygments_lexer": "ipython3",
   "version": "3.6.5"
  }
 },
 "nbformat": 4,
 "nbformat_minor": 2
}
