{
 "cells": [
  {
   "cell_type": "markdown",
   "metadata": {},
   "source": [
    "# Probability of Occurrence of Mainshocks and Aftershocks\n",
    "\n",
    "### Introduction\n",
    "In the previous homework we learned about the particularly well-behaved statistics of the earthquake magnitude distribution, and aftershock occurrence. As we saw, it is possible to use the frequency of event occurrence over a range of magnitudes to extrapolate to the less frequent large earthquakes of interest. How far this extrapolation may be extended depends upon a number of factors. It is certainly not unbounded as fault dimension, segmentation, strength and frictional properties will play a role in the maximum size earthquake that a fault will produce. Paleoseismic data is used to provide a better understanding of the recurrence of the large earthquakes of interest. The large earthquakes have greater fault offset, rupture to the surface of the Earth and leave a telltale geologic record. This record is used to determine the recurrence of the large characteristic earthquakes and probabilistic earthquake forecasts.  Finally, this type of analysis is perhaps one of the most visible products of earthquake hazard research in that earthquake forecasts and probabilities of aftershock occurrence are generally released to the public.\n",
    "\n",
    "### Objective\n",
    "In this homework we will assume a Poisson distribution to determine the probability of events based on the Gutenberg-Richter recurrence relationship.  Given the statistical aftershock rate model of Reasenberg and Jones (1996) we will forecast the probability of occurrence of large aftershocks for the 2014 Napa earthquake sequence. For the Mojave segment of the San Andreas Fault we will compare probability density models to the recurrence data and use the best fitting model to determine the 30-year conditionally probability of occurrence of a magnitude 8 earthquake. \n",
    "\n",
    "Use the code provided in this Jupyter Notebook to analyze the provided data, and then answer the questions to complete this homework. Submit your completed notebook either in a *.pdf or *.ipynb format. Write your answers either embedded as Markdown inside the notebook, or attached in a separate *.doc or *.pdf document.\n",
    "\n",
    "### Due Date\n",
    "Please submit your homework to natelindsey@berkeley.edu before Tuesday February 19, 2019 at 11:59 pm."
   ]
  },
  {
   "cell_type": "code",
   "execution_count": 8,
   "metadata": {
    "code_folding": [
     17,
     26
    ]
   },
   "outputs": [],
   "source": [
    "#Initial Setup and Subroutine Definitions\n",
    "import math\n",
    "import datetime\n",
    "import numpy as np\n",
    "from scipy import stats\n",
    "import matplotlib\n",
    "import matplotlib.pyplot as plt\n",
    "import pandas as pd\n",
    "######\n",
    "# When you choose to work inside the dataHub, you will need to download cartopy every time.\n",
    "# If you are working inside your local machine, then the version of Cartopy downloaded via pip here may conflict with \n",
    "# an existing version, so comment out this line.\n",
    "######\n",
    "# !pip install cartopy -q \n",
    "######\n",
    "import cartopy.crs as ccrs\n",
    "import cartopy.feature as cfeature\n",
    "def countDays(c,y,m,d):\n",
    "    days=np.zeros(c)\n",
    "    for i in range(0,c,1):\n",
    "        d0 = datetime.date(y[0], m[0], d[0])\n",
    "        d1 = datetime.date(y[i], m[i], d[i])\n",
    "        delta = d1 - d0\n",
    "        days[i]=delta.days\n",
    "    return days\n",
    "def readAnssCatalog(p):\n",
    "    # slices up an ANSS catalog loaded as a pandas dataframe and returns event info\n",
    "    d=np.array(p)         # load the dataframe into numpy as an array      \n",
    "    year=d[:,0].astype(int)  # define variables from the array\n",
    "    month=d[:,1].astype(int)\n",
    "    day=d[:,2].astype(int)\n",
    "    hour=d[:,3].astype(int)\n",
    "    minute=d[:,4].astype(int)\n",
    "    sec=d[:,5].astype(int)\n",
    "    lat=d[:,6]\n",
    "    lon=d[:,7]\n",
    "    mag=d[:,8]\n",
    "    days = countDays(len(year),year,month,day)\n",
    "    return year,month,day,hour,minute,sec,lat,lon,mag,days"
   ]
  },
  {
   "cell_type": "markdown",
   "metadata": {},
   "source": [
    "### Exercise 1\n",
    "\n",
    "The simplest model description of the probability that an earthquake of a given magnitude will happen is that of random occurrence. In fact when you examine the earthquake catalog it does in fact appear to be randomly distributed in time with the exception of aftershocks and a slight tendency of clustering. The Poisson distribution is often used to examine the probability of occurrence of an event within a given time window based on the catalog statistics. A Poisson process occurs randomly with no “memory” of time, size or location of any preceding event. Note that this assumption is inconsistent with the implications of elastic rebound theory applied to a single fault for large repeating earthquakes, but is consistent with the gross seismicity catalog.  \n",
    "\n",
    "The Poisson distribution is defined as,\n",
    "\n",
    "$$\n",
    "p(x)=\\frac{u^x e^{-u}}{x!}\n",
    "$$\n",
    "\n",
    "where $x$ is the number of events, and $u$ is the number of events that occur in time $\\delta t$ given the rate of event occurrence $\\lambda$, or $u = \\lambda*\\delta t$. Consider the case in which we would like to know the probability of an event of a certain magnitude occurring within a certain time. Using the Poisson distribution, we can define the probability of one or more events occuring to be,\n",
    "\n",
    "$$\n",
    "p(x >= 1)=1.0 - e^{-u}.\n",
    "$$\n",
    "\n",
    "The probability of one or more events occuring in a specified time period, for example $\\delta t =$ 30 years, can be shown to be\n",
    "\n",
    "$$\n",
    "p(x >= 1)=1.0 - e^{-\\lambda \\delta t},\n",
    "$$\n",
    "\n",
    "where $\\lambda$ is the annual rate of event occurrence, taken from Gutenberg-Richter analysis.\n"
   ]
  },
  {
   "cell_type": "markdown",
   "metadata": {},
   "source": [
    "### Exercise 1 \n",
    "#### Questions: \n",
    "\n",
    "1. Using the Poisson model estimate the probability of a magnitude 5+ earthquake in a given week, month, year and 5 year period using the annual rate determined from the Gutenberg-Richter relationship for the Greater San Francisco Bay Area:\n",
    "\n",
    "$$\n",
    "Log(N) = 3.17 - 0.793M\n",
    "$$\n",
    "\n",
    "2. Compare the estimated probability of a magnitude 7.0+ earthquake for the same time periods.\n",
    "\n",
    "#### Answer"
   ]
  },
  {
   "cell_type": "code",
   "execution_count": 58,
   "metadata": {},
   "outputs": [
    {
     "ename": "SyntaxError",
     "evalue": "invalid syntax (<ipython-input-58-aefd9f0bcad0>, line 2)",
     "output_type": "error",
     "traceback": [
      "\u001b[0;36m  File \u001b[0;32m\"<ipython-input-58-aefd9f0bcad0>\"\u001b[0;36m, line \u001b[0;32m2\u001b[0m\n\u001b[0;31m    mag = # *****\u001b[0m\n\u001b[0m                 ^\u001b[0m\n\u001b[0;31mSyntaxError\u001b[0m\u001b[0;31m:\u001b[0m invalid syntax\n"
     ]
    }
   ],
   "source": [
    "# Average annual rate of occurrence of M5+ from G-N stats\n",
    "mag = # *****\n",
    "lam = #*****\n",
    "\n",
    "# Time range in years \n",
    "dt = #*****\n",
    "\n",
    "# The probability of an event of Magnitude M occurring\n",
    "P = #*****"
   ]
  },
  {
   "cell_type": "markdown",
   "metadata": {},
   "source": [
    "write your answer here..."
   ]
  },
  {
   "cell_type": "markdown",
   "metadata": {},
   "source": [
    "### Exercise 2\n",
    "\n",
    "The Poisson probability function above may also be used to determine the probability of one or more aftershocks of given magnitude range and time period following the mainshock. \n",
    "\n",
    "Typically an estimate of the probability of magnitude 5 and larger earthquakes is given for the period of 7 days following a large mainshock. This aftershock probability estimate is found to decay rapidly with increasing time.  Reasenberg and Jones (1989) studied the statistics of aftershocks throughout California and arrived at the following equation describing the rate of occurrence of one or more events as a function of elapsed time for a generic California earthquake sequence:\n",
    "\n",
    "$$\n",
    "rate(t,M)=10^{(-1.67 + 0.91*(Mm - M))}   * (t + 0.05)^{-1.08}, \n",
    "$$\n",
    "\n",
    "where Mm is the mainshock magnitude, M is magnitude of aftershocks (can be larger than Mm), and t is time in units of days. This equation describes the daily production rate of aftershocks with magnitude (M) after the mainshock with magnitude Mm. The rate is a function of time (t) and the aftershock magnitude. Elements of both the Gutenberg-Richter relationship and Omori’s Law are evident in the above equation.  \n",
    "\n",
    "The Poisson probability of one or more aftershocks with magnitude M in range of M1 < M < M2, and time t in range t1 < t < t2 is:\n",
    "\n",
    "$$\n",
    "p(M1,M2,t1,t2) = 1.0 - e^{-\\int_{M1}^{M2} \\int_{t1}^{t2}rate(t,M)dtdM}\n",
    "$$\n",
    "\n",
    "The double integral in the exponent may be approximated by nested summations. That is, for each magnitude from M1 to M2 the sum of the rate function over the time period of interest (typically from t1=0 to t2=7 days) can be computed."
   ]
  },
  {
   "cell_type": "markdown",
   "metadata": {},
   "source": [
    "#### Question 2.1\n",
    "Use these relationships to estimate the probability of one or more magnitude 5 and larger (potentially damaging) aftershocks in the 7 days following the October 18, 1989 Loma Prieta Earthquake studied in Homework 1.\n",
    "\n",
    "#### Answer"
   ]
  },
  {
   "cell_type": "code",
   "execution_count": 45,
   "metadata": {},
   "outputs": [],
   "source": [
    "# write your code here ****"
   ]
  },
  {
   "cell_type": "markdown",
   "metadata": {},
   "source": [
    "write your answer here\n",
    ".\n",
    ".\n",
    ".\n",
    "."
   ]
  },
  {
   "cell_type": "markdown",
   "metadata": {},
   "source": [
    "#### Question 2.2\n",
    "By the end of day two how much has the probability of occurrence of a magnitude 5+ aftershocks decayed? \n",
    "\n",
    "#### Answer"
   ]
  },
  {
   "cell_type": "code",
   "execution_count": 46,
   "metadata": {},
   "outputs": [],
   "source": [
    "# write your code here *****\n",
    "# \n",
    "# Note: For the Loma Prieta earthquake, Mm = 6.8, \n",
    "# M1 = 5.0 and M_2 = 6.8 (since the question asks for aftershocks, \n",
    "# the aftershock maximum magnitude should be less than the mainshock \n",
    "# magnitude, otherwise it will be mainshock and Napa earthquake will \n",
    "# be termed \"foreshock\".)\n",
    "#"
   ]
  },
  {
   "cell_type": "markdown",
   "metadata": {},
   "source": [
    "write your answer here\n",
    ".\n",
    ".\n",
    ".\n",
    "."
   ]
  },
  {
   "cell_type": "markdown",
   "metadata": {},
   "source": [
    "#### Questions 2.3\n",
    "Using the catalog from HW#1, compare the expected number of aftershocks per day (simply from the rate function) for various magnitude thresholds (M > 2, M > 3 etc) and the observed outcome for the Loma Prieta earthquake sequence.\n"
   ]
  },
  {
   "cell_type": "code",
   "execution_count": 48,
   "metadata": {},
   "outputs": [
    {
     "name": "stdout",
     "output_type": "stream",
     "text": [
      "The magnitude-time distribution of Loma Prieta aftershocks is shown here:\n"
     ]
    },
    {
     "data": {
      "image/png": "[encoded data removed]",
      "text/plain": [
       "<Figure size 504x216 with 1 Axes>"
      ]
     },
     "metadata": {
      "needs_background": "light"
     },
     "output_type": "display_data"
    }
   ],
   "source": [
    "# Load the catalog from HW #1 (provided in your current working directory)\n",
    "print('The magnitude-time distribution of Loma Prieta aftershocks is shown here:')\n",
    "data=pd.read_csv('anss_catalog_1900to2018all.txt', sep=' ', delimiter=None, header=None,\n",
    "                names = ['Year','Month','Day','Hour','Min','Sec','Lat','Lon','Mag'])\n",
    "EQ_1989 = data[(data.Year>=1989) & (data.Year<1990)]          #get one year of data\n",
    "fall_eq = EQ_1989[(EQ_1989.Month>9) & (EQ_1989.Month<=12)]    #collect months of Oct, Nov and Dec\n",
    "LP_eq = fall_eq[(~((fall_eq.Month==10) & (fall_eq.Day<18)))]  #negate events before day (assumes first month is 10)\n",
    "LP_eq = LP_eq[(~((LP_eq.Month==12) & (LP_eq.Day>18)))]        #negate events after day (assumes last month is 12)\n",
    "LP_eq.reset_index(drop=True, inplace=True)\n",
    "year,month,day,hour,minute,sec,lat,lon,mag,days = readAnssCatalog(LP_eq)\n",
    "days = days[1:] # remove mainshock\n",
    "mag = mag[1:]\n",
    "\n",
    "# Plot of magnitude vs. day for entire catalog\n",
    "fig, ax = plt.subplots(figsize=(7,3))\n",
    "ax.plot(days,mag,'o',alpha=0.2,markersize=5)\n",
    "ax.set(xlabel='Days', ylabel='Magnitude',\n",
    "       title='Raw Event Catalog')\n",
    "ax.grid()\n",
    "ax.set_ylim([0,7])\n",
    "plt.show()"
   ]
  },
  {
   "cell_type": "markdown",
   "metadata": {},
   "source": [
    "#### Answer"
   ]
  },
  {
   "cell_type": "code",
   "execution_count": 54,
   "metadata": {},
   "outputs": [],
   "source": [
    "# Hint: the easiest way to find the number of aftershocks per day in a magnitude range is to \n",
    "# further refine the LP_eq catalog uisng boolean statements.\n",
    "#\n",
    "#"
   ]
  },
  {
   "cell_type": "markdown",
   "metadata": {},
   "source": [
    "Write you answer here"
   ]
  },
  {
   "cell_type": "markdown",
   "metadata": {},
   "source": [
    "#### Questions 2.4\n",
    "The statistics compiled by Reasenberg and Jones also allows for the estimation of the probability of an event larger than the mainshock occurring, or in other words the probability that a given event is in fact a foreshock. Immediately following the Loma Prieta earthquake, within a lapse time of 0.1 day, what was the probability that a larger earthquake might occur?\n",
    "\n",
    "#### Answer"
   ]
  },
  {
   "cell_type": "code",
   "execution_count": 51,
   "metadata": {},
   "outputs": [],
   "source": [
    "# write your code here"
   ]
  },
  {
   "cell_type": "markdown",
   "metadata": {},
   "source": [
    "Write your answer here"
   ]
  },
  {
   "cell_type": "markdown",
   "metadata": {},
   "source": [
    "#### Questions 2.5\n",
    "Practically speaking, what was the duration of the Loma Prieta sequence? Explain you answer in terms Omori statistics and the probability of aftershock occurrence with increasing time following the main shock.\n",
    "\n",
    "#### Answer"
   ]
  },
  {
   "cell_type": "code",
   "execution_count": 50,
   "metadata": {},
   "outputs": [],
   "source": [
    "# write your code here"
   ]
  },
  {
   "cell_type": "markdown",
   "metadata": {},
   "source": [
    "Write your answer here"
   ]
  },
  {
   "cell_type": "markdown",
   "metadata": {
    "collapsed": true
   },
   "source": [
    "### Exercise 3\n",
    "\n",
    "As discussed in class paleoseismic trench data at Pallet Creek in southern California reveals the quasi-periodic behavior of large earthquakes on the San Andreas fault. From the very careful mapping of offset stratigraphy in the trench and carbon-14 radiometric dating these large earthquakes have been found to have occurred in 1857, 1812, 1480, 1346, 1100, 1048, 997, 797, 734, 671, 529 (see figure from Sieh, K., Stuiver, M. and Brillinger, D., 1989). These earthquakes include M8 earthquakes on the southern segment of the San Andreas fault, which extends from Parkfield southward through the Big Bend into southern California. Each earthquake may not have been as large as M8, however, given the mapped slip, each event is considered to be M>7. The 1857 earthquake was M8. \n",
    "\n",
    "<img src=\"palletCreek.png\">\n",
    "\n",
    "Using this recurrence data we are going to examine the periodicity, plot the distribution of events in terms of binned interval time, compare the observed distribution with idealized probability density functions, and then use those functions to estimate the conditional probability of occurrence of these events."
   ]
  },
  {
   "cell_type": "markdown",
   "metadata": {},
   "source": [
    "#### Question 3.1\n",
    "\n",
    "Given the time intervals separating the event list given above, compare the fits of a Gaussian and Lognormal probability density model. \n",
    "\n",
    "\n",
    "Gaussian:  \n",
    "$$\n",
    "pd(u)=\\frac{e^{\\frac{-(u - Tave)^2}{2 {\\sigma}^2}}}{\\sigma \\sqrt{2 \\pi}}\n",
    "$$\n",
    "\n",
    "\n",
    "Log-Normal: \n",
    "$$\n",
    "pd(u)=\\frac{e^{\\frac{-{(ln(u/Tave))}^2}{2 {(\\sigma / Tave)}^2}}}{(\\frac{\\sigma}{Tave}) u  \\sqrt{2 \\pi}}\n",
    "$$\n",
    "\n",
    "The models depend on the mean interval recurrence time ($T_{ave}$), the standard deviation to the mean ($\\sigma$), and the random variable ($u$) which in this case represents the interval time.\n",
    "\n",
    "\n",
    "To do this make a histogram with bins from 1-51, 51-101, 101-151, etc. The center dates of the bins will be 26, 76, 126, etc. Then fit each probability density model. \n",
    "Which type of distribution appears to fit the data better?\n",
    "\n",
    "#### Answer"
   ]
  },
  {
   "cell_type": "code",
   "execution_count": 49,
   "metadata": {
    "scrolled": false
   },
   "outputs": [],
   "source": [
    "# hint: matplotlib.pyplot and pandas.DataFrame both have \n",
    "#       histogram functions"
   ]
  },
  {
   "cell_type": "markdown",
   "metadata": {},
   "source": [
    "Write your answer here"
   ]
  },
  {
   "cell_type": "markdown",
   "metadata": {},
   "source": [
    "### Exercise 4\n",
    "In this problem we will estimate the probability of occurrence of a magnitude M8 earthquake based on the historic Pallet Creek recurrence data and the best fitting probability density model determined in Exercise 3.  \n",
    "\n",
    "The probability that an event will occur within a given time window, for example 30-years, is the definite integral of the probability density function computed over that time window: \n",
    "$$\n",
    "P(T_e <= T <= T_e + \\Delta T)=\\int_{T_e}^{T_e + \\Delta T} pd(u)du,\n",
    "$$\n",
    "\n",
    "where $\\Delta T$ is the length of the forecast window and $T_e$ is the time since the previous event. Note how P varies as a function of elapsed time. For any given forecast window, the value of P is small but is greatest near the mean of the distribution. Note that the Gaussian and lognormal probability density functions defined above are normalized to unit area. "
   ]
  },
  {
   "cell_type": "markdown",
   "metadata": {},
   "source": [
    "#### Question 4.1\n",
    "\n",
    "Estimate the 10-year, 20-year and 30-year probabilities for a repeat of this large Pallet Creek fault segment event using your estimates of $Tave$, $\\sigma$, and $T_e=162$ years (time since 1857). Compare these estimates with those obtained assuming the Poison model (as done above).\n",
    "\n",
    "The first step is to find the probability that the event will occur in the window, $\\Delta T$ with the condition that the event did not occur before $T_e$. This effectively reduces the sample space. The result is the following normalization for the conditional probability:\n",
    "\n",
    "$$\n",
    "P(T_e <= T <= T_e + \\Delta T | T >= T_e) = \\frac{\\int_{T_e}^{T_e + \\Delta T} pd(u)du}{1.0 - \\int_{0}^{T_e}pd(u)du}\n",
    "$$\n",
    "\n",
    "#### Answer"
   ]
  },
  {
   "cell_type": "code",
   "execution_count": 56,
   "metadata": {},
   "outputs": [],
   "source": [
    "# *****\n",
    "# hint: use a for loop over du to compute the integral\n",
    "#"
   ]
  },
  {
   "cell_type": "markdown",
   "metadata": {},
   "source": [
    "Write your answer here"
   ]
  },
  {
   "cell_type": "markdown",
   "metadata": {},
   "source": [
    "#### Question 4.2\n",
    "\n",
    "Estimate the change in the 30-year probability if the event does not occur next 10 years.\n",
    "\n",
    "#### Answer"
   ]
  },
  {
   "cell_type": "code",
   "execution_count": 57,
   "metadata": {},
   "outputs": [],
   "source": [
    "# Write your code here"
   ]
  },
  {
   "cell_type": "markdown",
   "metadata": {},
   "source": [
    "Write your answer here"
   ]
  },
  {
   "cell_type": "markdown",
   "metadata": {},
   "source": [
    "#### Question 4.3\n",
    "\n",
    "Can you identify a weakness of this model?\n",
    "\n",
    "#### Answer"
   ]
  },
  {
   "cell_type": "markdown",
   "metadata": {},
   "source": [
    "Write your answer here"
   ]
  }
 ],
 "metadata": {
  "anaconda-cloud": {},
  "kernelspec": {
   "display_name": "Python 3",
   "language": "python",
   "name": "python3"
  },
  "language_info": {
   "codemirror_mode": {
    "name": "ipython",
    "version": 3
   },
   "file_extension": ".py",
   "mimetype": "text/x-python",
   "name": "python",
   "nbconvert_exporter": "python",
   "pygments_lexer": "ipython3",
   "version": "3.7.1"
  }
 },
 "nbformat": 4,
 "nbformat_minor": 2
}
